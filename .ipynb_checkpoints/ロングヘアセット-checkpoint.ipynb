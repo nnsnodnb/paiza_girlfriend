{
 "cells": [
  {
   "cell_type": "code",
   "execution_count": 1,
   "metadata": {
    "collapsed": false
   },
   "outputs": [
    {
     "name": "stdout",
     "output_type": "stream",
     "text": [
      "yes\n",
      "yes\n",
      "no\n",
      "yes\n",
      "no\n",
      "yes\n"
     ]
    }
   ],
   "source": [
    "# coding: utf-8\n",
    "# 自分の得意な言語で\n",
    "# Let's チャレンジ！！\n",
    "votes = [input() for n in range(5)]\n",
    "\n",
    "yes , no = 0 , 0\n",
    "\n",
    "for vote in votes:\n",
    "    if vote == 'yes':\n",
    "        yes += 1\n",
    "    else:\n",
    "        no += 1\n",
    "\n",
    "if yes > no:\n",
    "    print('yes')\n",
    "else:\n",
    "    print('no')"
   ]
  }
 ],
 "metadata": {
  "kernelspec": {
   "display_name": "Python 3",
   "language": "python",
   "name": "python3"
  },
  "language_info": {
   "codemirror_mode": {
    "name": "ipython",
    "version": 3
   },
   "file_extension": ".py",
   "mimetype": "text/x-python",
   "name": "python",
   "nbconvert_exporter": "python",
   "pygments_lexer": "ipython3",
   "version": "3.4.3"
  }
 },
 "nbformat": 4,
 "nbformat_minor": 0
}
