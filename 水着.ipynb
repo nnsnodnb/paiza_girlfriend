{
 "cells": [
  {
   "cell_type": "code",
   "execution_count": 1,
   "metadata": {
    "collapsed": false
   },
   "outputs": [
    {
     "name": "stdout",
     "output_type": "stream",
     "text": [
      "10000\n",
      "1579008"
     ]
    }
   ],
   "source": [
    "# coding: utf-8\n",
    "# 自分の得意な言語で\n",
    "# Let's チャレンジ！！\n",
    "\n",
    "# ====================\n",
    "# 答え自体は出るが速度が遅い\n",
    "# ====================\n",
    "\n",
    "import math\n",
    "import sys\n",
    "from functools import reduce\n",
    "\n",
    "def fact(x):\n",
    "    numbers = range(1 , x + 1)\n",
    "    return reduce(lambda x , y : x * y , numbers)\n",
    "\n",
    "def del_zero(keta):\n",
    "    while True:\n",
    "        if keta[0] == 0:\n",
    "            keta.pop(0)\n",
    "        else:\n",
    "            return keta\n",
    "\n",
    "data = fact(int(input()))\n",
    "\n",
    "keta = []\n",
    "# 桁ごとに区切る\n",
    "len_data = len(str(data))\n",
    "\n",
    "for i in range(len_data):\n",
    "    keta.append(int(data % 10))\n",
    "    data = int(data // 10)\n",
    "    \n",
    "before_keta = del_zero(keta)\n",
    "\n",
    "before_ans = before_keta[:9]\n",
    "before_ans.reverse()\n",
    "\n",
    "ans = del_zero(before_ans)\n",
    "\n",
    "for i in range(len(ans)):\n",
    "    print(ans[i] , end=\"\")"
   ]
  }
 ],
 "metadata": {
  "kernelspec": {
   "display_name": "Python 3",
   "language": "python",
   "name": "python3"
  },
  "language_info": {
   "codemirror_mode": {
    "name": "ipython",
    "version": 3
   },
   "file_extension": ".py",
   "mimetype": "text/x-python",
   "name": "python",
   "nbconvert_exporter": "python",
   "pygments_lexer": "ipython3",
   "version": "3.4.3"
  }
 },
 "nbformat": 4,
 "nbformat_minor": 0
}
