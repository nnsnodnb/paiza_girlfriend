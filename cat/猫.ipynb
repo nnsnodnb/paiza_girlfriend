{
 "cells": [
  {
   "cell_type": "code",
   "execution_count": 1,
   "metadata": {
    "collapsed": false
   },
   "outputs": [
    {
     "name": "stdout",
     "output_type": "stream",
     "text": [
      "ctacct\n",
      "1\n",
      "0\n",
      "2\n",
      "1\n"
     ]
    }
   ],
   "source": [
    "line = input()\n",
    "words = ['c', 'a', 't']\n",
    "count = []\n",
    "for word in words:\n",
    "    count.append(line.count(word))\n",
    "\n",
    "create_cat = min(count)\n",
    "print(create_cat)\n",
    "max_index = count.index(max(count))\n",
    "\n",
    "for i in range(len(count)):\n",
    "    if i == max_index:\n",
    "        print(0)\n",
    "    else:\n",
    "        print(count[max_index] - count[i])"
   ]
  }
 ],
 "metadata": {
  "kernelspec": {
   "display_name": "Python 3",
   "language": "python",
   "name": "python3"
  },
  "language_info": {
   "codemirror_mode": {
    "name": "ipython",
    "version": 3
   },
   "file_extension": ".py",
   "mimetype": "text/x-python",
   "name": "python",
   "nbconvert_exporter": "python",
   "pygments_lexer": "ipython3",
   "version": "3.5.1"
  }
 },
 "nbformat": 4,
 "nbformat_minor": 0
}
