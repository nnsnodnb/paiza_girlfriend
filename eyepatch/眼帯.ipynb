{
 "cells": [
  {
   "cell_type": "code",
   "execution_count": 16,
   "metadata": {
    "collapsed": false
   },
   "outputs": [
    {
     "name": "stdout",
     "output_type": "stream",
     "text": [
      "8\n",
      "5\n",
      "1 3 4 5 6\n",
      "3\n",
      "1 5 6\n",
      "None\n"
     ]
    }
   ],
   "source": [
    "### coding: utf-8\n",
    "# 自分の得意な言語で\n",
    "# Let's チャレンジ！！\n",
    "total = int(input()) + 1\n",
    "have = int(input())\n",
    "have_book = input().split(' ')\n",
    "store = int(input())\n",
    "store_book = input().split(' ')\n",
    "\n",
    "shelf = [0] * total\n",
    "diff = []\n",
    "# 持っている巻\n",
    "for i in have_book:\n",
    "    shelf[int(i)] = 1\n",
    "# 売っている巻\n",
    "for i in store_book:\n",
    "    shelf[int(i)] -= 1\n",
    "\n",
    "for buy in range(total):\n",
    "    if shelf[buy] < 0:\n",
    "        diff.append(buy)\n",
    "\n",
    "if not diff:\n",
    "    print('None')\n",
    "else:\n",
    "    print(' '.join(map(str , diff)))"
   ]
  }
 ],
 "metadata": {
  "kernelspec": {
   "display_name": "Python 3",
   "language": "python",
   "name": "python3"
  },
  "language_info": {
   "codemirror_mode": {
    "name": "ipython",
    "version": 3
   },
   "file_extension": ".py",
   "mimetype": "text/x-python",
   "name": "python",
   "nbconvert_exporter": "python",
   "pygments_lexer": "ipython3",
   "version": "3.4.3"
  }
 },
 "nbformat": 4,
 "nbformat_minor": 0
}
