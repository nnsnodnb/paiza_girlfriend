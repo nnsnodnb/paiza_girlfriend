{
 "cells": [
  {
   "cell_type": "code",
   "execution_count": 1,
   "metadata": {
    "collapsed": false
   },
   "outputs": [
    {
     "name": "stdout",
     "output_type": "stream",
     "text": [
      "3\n",
      "10\n",
      "RRRWWWRRRW\n"
     ]
    }
   ],
   "source": [
    "# coding: utf-8\n",
    "# 自分の得意な言語で\n",
    "# Let's チャレンジ！！\n",
    "n = int(input()); m = int(input()); s = ''\n",
    "\n",
    "for i in range(m):\n",
    "    s += 'R' if i % (n * 2) < n else 'W'\n",
    "\n",
    "print(s)"
   ]
  }
 ],
 "metadata": {
  "kernelspec": {
   "display_name": "Python 3",
   "language": "python",
   "name": "python3"
  },
  "language_info": {
   "codemirror_mode": {
    "name": "ipython",
    "version": 3
   },
   "file_extension": ".py",
   "mimetype": "text/x-python",
   "name": "python",
   "nbconvert_exporter": "python",
   "pygments_lexer": "ipython3",
   "version": "3.5.0"
  }
 },
 "nbformat": 4,
 "nbformat_minor": 0
}
